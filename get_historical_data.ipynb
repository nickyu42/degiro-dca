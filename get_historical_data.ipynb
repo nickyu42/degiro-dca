{
 "cells": [
  {
   "cell_type": "code",
   "execution_count": 1,
   "id": "c4cd8d36-a9fe-425e-8f2a-feb2cdd5289c",
   "metadata": {},
   "outputs": [
    {
     "data": {
      "text/html": [
       "<div>\n",
       "<style scoped>\n",
       "    .dataframe tbody tr th:only-of-type {\n",
       "        vertical-align: middle;\n",
       "    }\n",
       "\n",
       "    .dataframe tbody tr th {\n",
       "        vertical-align: top;\n",
       "    }\n",
       "\n",
       "    .dataframe thead th {\n",
       "        text-align: right;\n",
       "    }\n",
       "</style>\n",
       "<table border=\"1\" class=\"dataframe\">\n",
       "  <thead>\n",
       "    <tr style=\"text-align: right;\">\n",
       "      <th></th>\n",
       "      <th>product</th>\n",
       "      <th>isin</th>\n",
       "      <th>exchange</th>\n",
       "      <th>benchmark</th>\n",
       "      <th>region</th>\n",
       "      <th>esgRating</th>\n",
       "      <th>totalExpanseRation</th>\n",
       "      <th>translateView</th>\n",
       "      <th>linkKid</th>\n",
       "    </tr>\n",
       "  </thead>\n",
       "  <tbody>\n",
       "    <tr>\n",
       "      <th>0</th>\n",
       "      <td>ISHARES EURO STX50</td>\n",
       "      <td>IE0008471009</td>\n",
       "      <td>Euronext Amsterdam &amp; Tradegate</td>\n",
       "      <td>Euro STOXX 50</td>\n",
       "      <td>Europa</td>\n",
       "      <td>AA</td>\n",
       "      <td>0.10</td>\n",
       "      <td>Bekijk</td>\n",
       "      <td>https://doc.morningstar.com/LatestDoc.aspx?cli...</td>\n",
       "    </tr>\n",
       "    <tr>\n",
       "      <th>1</th>\n",
       "      <td>ISHARES CHINA 25</td>\n",
       "      <td>IE00B02KXK85</td>\n",
       "      <td>Euronext Amsterdam &amp; Tradegate</td>\n",
       "      <td>FTSE China 25</td>\n",
       "      <td>China</td>\n",
       "      <td>A</td>\n",
       "      <td>0.74</td>\n",
       "      <td>Bekijk</td>\n",
       "      <td>https://doc.morningstar.com/LatestDoc.aspx?cli...</td>\n",
       "    </tr>\n",
       "    <tr>\n",
       "      <th>2</th>\n",
       "      <td>ISHARES FTSE 100</td>\n",
       "      <td>IE0005042456</td>\n",
       "      <td>Euronext Amsterdam &amp; Tradegate</td>\n",
       "      <td>FTSE 100-index</td>\n",
       "      <td>United Kingdom</td>\n",
       "      <td>AA</td>\n",
       "      <td>0.07</td>\n",
       "      <td>Bekijk</td>\n",
       "      <td>https://doc.morningstar.com/LatestDoc.aspx?cli...</td>\n",
       "    </tr>\n",
       "    <tr>\n",
       "      <th>3</th>\n",
       "      <td>ISHARES ESTOXX DIV</td>\n",
       "      <td>IE00B0M62S72</td>\n",
       "      <td>Euronext Amsterdam &amp; Tradegate</td>\n",
       "      <td>STOXX Europe Select Dividend 30</td>\n",
       "      <td>Europa</td>\n",
       "      <td>AA</td>\n",
       "      <td>0.40</td>\n",
       "      <td>Bekijk</td>\n",
       "      <td>https://doc.morningstar.com/LatestDoc.aspx?cli...</td>\n",
       "    </tr>\n",
       "    <tr>\n",
       "      <th>4</th>\n",
       "      <td>ISHARES AEX</td>\n",
       "      <td>IE00B0M62Y33</td>\n",
       "      <td>Euronext Amsterdam &amp; Tradegate</td>\n",
       "      <td>AEX Total Net Return</td>\n",
       "      <td>Europa</td>\n",
       "      <td>AA</td>\n",
       "      <td>0.30</td>\n",
       "      <td>Bekijk</td>\n",
       "      <td>https://doc.morningstar.com/LatestDoc.aspx?cli...</td>\n",
       "    </tr>\n",
       "  </tbody>\n",
       "</table>\n",
       "</div>"
      ],
      "text/plain": [
       "              product          isin                        exchange  \\\n",
       "0  ISHARES EURO STX50  IE0008471009  Euronext Amsterdam & Tradegate   \n",
       "1    ISHARES CHINA 25  IE00B02KXK85  Euronext Amsterdam & Tradegate   \n",
       "2    ISHARES FTSE 100  IE0005042456  Euronext Amsterdam & Tradegate   \n",
       "3  ISHARES ESTOXX DIV  IE00B0M62S72  Euronext Amsterdam & Tradegate   \n",
       "4         ISHARES AEX  IE00B0M62Y33  Euronext Amsterdam & Tradegate   \n",
       "\n",
       "                         benchmark          region esgRating  \\\n",
       "0                    Euro STOXX 50          Europa        AA   \n",
       "1                    FTSE China 25           China         A   \n",
       "2                   FTSE 100-index  United Kingdom        AA   \n",
       "3  STOXX Europe Select Dividend 30          Europa        AA   \n",
       "4             AEX Total Net Return          Europa        AA   \n",
       "\n",
       "   totalExpanseRation translateView  \\\n",
       "0                0.10        Bekijk   \n",
       "1                0.74        Bekijk   \n",
       "2                0.07        Bekijk   \n",
       "3                0.40        Bekijk   \n",
       "4                0.30        Bekijk   \n",
       "\n",
       "                                             linkKid  \n",
       "0  https://doc.morningstar.com/LatestDoc.aspx?cli...  \n",
       "1  https://doc.morningstar.com/LatestDoc.aspx?cli...  \n",
       "2  https://doc.morningstar.com/LatestDoc.aspx?cli...  \n",
       "3  https://doc.morningstar.com/LatestDoc.aspx?cli...  \n",
       "4  https://doc.morningstar.com/LatestDoc.aspx?cli...  "
      ]
     },
     "execution_count": 1,
     "metadata": {},
     "output_type": "execute_result"
    }
   ],
   "source": [
    "import pandas as pd\n",
    "\n",
    "df_core_selection = pd.read_csv('core-selection-list-nl.csv')\n",
    "df_core_selection.head()"
   ]
  },
  {
   "cell_type": "code",
   "execution_count": 2,
   "id": "3ec0abea-d318-4cab-8c43-21d3b0779dde",
   "metadata": {},
   "outputs": [],
   "source": [
    "import requests\n",
    "\n",
    "user_agent_headers = {\n",
    "    'User-Agent': 'Mozilla/5.0 (Macintosh; Intel Mac OS X 10_10_1) AppleWebKit/537.36 (KHTML, like Gecko) Chrome/39.0.2171.95 Safari/537.36'\n",
    "}\n",
    "\n",
    "url = 'https://query2.finance.yahoo.com/v1/finance/search?q={isin}'\n",
    "\n",
    "with requests.Session() as s:\n",
    "    response = s.get(url.format(isin='IE0008471009'), headers=user_agent_headers)\n",
    "    response.json()['quotes'][0]['symbol']"
   ]
  },
  {
   "cell_type": "code",
   "execution_count": 3,
   "id": "ca87562f-e322-4c09-8adc-c393411ee549",
   "metadata": {},
   "outputs": [
    {
     "name": "stdout",
     "output_type": "stream",
     "text": [
      "Could not find yf data for IE00B53L4X51\n"
     ]
    }
   ],
   "source": [
    "import time\n",
    "\n",
    "tickers = {}\n",
    "\n",
    "with requests.Session() as s:\n",
    "    for isin in df_core_selection['isin']:\n",
    "        # Crude rate-limiting\n",
    "        time.sleep(0.1)\n",
    "        \n",
    "        response = s.get(url.format(isin=isin), headers=user_agent_headers)\n",
    "        quotes = response.json()['quotes']\n",
    "\n",
    "        if len(quotes) == 0:\n",
    "            print(f'Could not find yf data for {isin}')\n",
    "            continue\n",
    "        \n",
    "        ticker = quotes[0]['symbol']\n",
    "        tickers[isin] = ticker"
   ]
  },
  {
   "cell_type": "code",
   "execution_count": 4,
   "id": "91cd7333-8844-49c3-a7a9-a150b29b7c2c",
   "metadata": {},
   "outputs": [
    {
     "data": {
      "text/html": [
       "<div>\n",
       "<style scoped>\n",
       "    .dataframe tbody tr th:only-of-type {\n",
       "        vertical-align: middle;\n",
       "    }\n",
       "\n",
       "    .dataframe tbody tr th {\n",
       "        vertical-align: top;\n",
       "    }\n",
       "\n",
       "    .dataframe thead th {\n",
       "        text-align: right;\n",
       "    }\n",
       "</style>\n",
       "<table border=\"1\" class=\"dataframe\">\n",
       "  <thead>\n",
       "    <tr style=\"text-align: right;\">\n",
       "      <th></th>\n",
       "      <th>Open</th>\n",
       "      <th>High</th>\n",
       "      <th>Low</th>\n",
       "      <th>Close</th>\n",
       "      <th>Volume</th>\n",
       "      <th>Dividends</th>\n",
       "      <th>Stock Splits</th>\n",
       "      <th>Capital Gains</th>\n",
       "    </tr>\n",
       "    <tr>\n",
       "      <th>Date</th>\n",
       "      <th></th>\n",
       "      <th></th>\n",
       "      <th></th>\n",
       "      <th></th>\n",
       "      <th></th>\n",
       "      <th></th>\n",
       "      <th></th>\n",
       "      <th></th>\n",
       "    </tr>\n",
       "  </thead>\n",
       "  <tbody>\n",
       "    <tr>\n",
       "      <th>2024-09-16 00:00:00+01:00</th>\n",
       "      <td>135.149994</td>\n",
       "      <td>135.509995</td>\n",
       "      <td>134.619995</td>\n",
       "      <td>135.139999</td>\n",
       "      <td>12083</td>\n",
       "      <td>0.0</td>\n",
       "      <td>0.0</td>\n",
       "      <td>0.0</td>\n",
       "    </tr>\n",
       "    <tr>\n",
       "      <th>2024-09-17 00:00:00+01:00</th>\n",
       "      <td>135.779999</td>\n",
       "      <td>136.199997</td>\n",
       "      <td>135.669998</td>\n",
       "      <td>135.910004</td>\n",
       "      <td>10362</td>\n",
       "      <td>0.0</td>\n",
       "      <td>0.0</td>\n",
       "      <td>0.0</td>\n",
       "    </tr>\n",
       "    <tr>\n",
       "      <th>2024-09-18 00:00:00+01:00</th>\n",
       "      <td>135.669998</td>\n",
       "      <td>135.820007</td>\n",
       "      <td>135.190002</td>\n",
       "      <td>135.199997</td>\n",
       "      <td>25748</td>\n",
       "      <td>0.0</td>\n",
       "      <td>0.0</td>\n",
       "      <td>0.0</td>\n",
       "    </tr>\n",
       "    <tr>\n",
       "      <th>2024-09-19 00:00:00+01:00</th>\n",
       "      <td>136.899994</td>\n",
       "      <td>137.570007</td>\n",
       "      <td>136.673004</td>\n",
       "      <td>137.449997</td>\n",
       "      <td>15721</td>\n",
       "      <td>0.0</td>\n",
       "      <td>0.0</td>\n",
       "      <td>0.0</td>\n",
       "    </tr>\n",
       "    <tr>\n",
       "      <th>2024-09-20 00:00:00+01:00</th>\n",
       "      <td>137.350006</td>\n",
       "      <td>137.899994</td>\n",
       "      <td>136.520004</td>\n",
       "      <td>136.600006</td>\n",
       "      <td>43344</td>\n",
       "      <td>0.0</td>\n",
       "      <td>0.0</td>\n",
       "      <td>0.0</td>\n",
       "    </tr>\n",
       "  </tbody>\n",
       "</table>\n",
       "</div>"
      ],
      "text/plain": [
       "                                 Open        High         Low       Close  \\\n",
       "Date                                                                        \n",
       "2024-09-16 00:00:00+01:00  135.149994  135.509995  134.619995  135.139999   \n",
       "2024-09-17 00:00:00+01:00  135.779999  136.199997  135.669998  135.910004   \n",
       "2024-09-18 00:00:00+01:00  135.669998  135.820007  135.190002  135.199997   \n",
       "2024-09-19 00:00:00+01:00  136.899994  137.570007  136.673004  137.449997   \n",
       "2024-09-20 00:00:00+01:00  137.350006  137.899994  136.520004  136.600006   \n",
       "\n",
       "                           Volume  Dividends  Stock Splits  Capital Gains  \n",
       "Date                                                                       \n",
       "2024-09-16 00:00:00+01:00   12083        0.0           0.0            0.0  \n",
       "2024-09-17 00:00:00+01:00   10362        0.0           0.0            0.0  \n",
       "2024-09-18 00:00:00+01:00   25748        0.0           0.0            0.0  \n",
       "2024-09-19 00:00:00+01:00   15721        0.0           0.0            0.0  \n",
       "2024-09-20 00:00:00+01:00   43344        0.0           0.0            0.0  "
      ]
     },
     "execution_count": 4,
     "metadata": {},
     "output_type": "execute_result"
    }
   ],
   "source": [
    "import yfinance as yf\n",
    "\n",
    "vwrl = tickers['IE00B3RBWM25']\n",
    "\n",
    "df_vwrl = yf.Ticker(vwrl).history(period='max')\n",
    "df_vwrl.tail()"
   ]
  },
  {
   "cell_type": "code",
   "execution_count": 9,
   "id": "e4ff5bfe-ae78-4d51-b88c-4a49d62de1dd",
   "metadata": {},
   "outputs": [
    {
     "name": "stderr",
     "output_type": "stream",
     "text": [
      "$FR0007052782.SG: possibly delisted; No price data found  (1d 1925-10-16 -> 2024-09-21)\n"
     ]
    },
    {
     "name": "stdout",
     "output_type": "stream",
     "text": [
      "$FR0007052782.SG: possibly delisted; No price data found  (1d 1925-10-16 -> 2024-09-21)\n"
     ]
    },
    {
     "name": "stderr",
     "output_type": "stream",
     "text": [
      "$IE00B44T3H88.SG: possibly delisted; No price data found  (1d 1925-10-16 -> 2024-09-21)\n"
     ]
    },
    {
     "name": "stdout",
     "output_type": "stream",
     "text": [
      "$IE00B44T3H88.SG: possibly delisted; No price data found  (1d 1925-10-16 -> 2024-09-21)\n"
     ]
    },
    {
     "name": "stderr",
     "output_type": "stream",
     "text": [
      "$IE00BMC38736.SG: possibly delisted; No price data found  (1d 1925-10-16 -> 2024-09-21)\n"
     ]
    },
    {
     "name": "stdout",
     "output_type": "stream",
     "text": [
      "$IE00BMC38736.SG: possibly delisted; No price data found  (1d 1925-10-16 -> 2024-09-21)\n"
     ]
    },
    {
     "name": "stderr",
     "output_type": "stream",
     "text": [
      "$IE000I8KRLL9.SG: possibly delisted; No price data found  (1d 1925-10-16 -> 2024-09-21)\n"
     ]
    },
    {
     "name": "stdout",
     "output_type": "stream",
     "text": [
      "$IE000I8KRLL9.SG: possibly delisted; No price data found  (1d 1925-10-16 -> 2024-09-21)\n"
     ]
    },
    {
     "name": "stderr",
     "output_type": "stream",
     "text": [
      "$IE00BMDH1538.SG: possibly delisted; No price data found  (1d 1925-10-16 -> 2024-09-21)\n",
      "$IE00BMDKNW35.SG: possibly delisted; No price data found  (1d 1925-10-16 -> 2024-09-21)\n",
      "$IE00BNG8L278.SG: possibly delisted; No price data found  (1d 1925-10-16 -> 2024-09-21)\n"
     ]
    },
    {
     "name": "stdout",
     "output_type": "stream",
     "text": [
      "$IE00BMDH1538.SG: possibly delisted; No price data found  (1d 1925-10-16 -> 2024-09-21)\n",
      "$IE00BMDKNW35.SG: possibly delisted; No price data found  (1d 1925-10-16 -> 2024-09-21)\n",
      "$IE00BNG8L278.SG: possibly delisted; No price data found  (1d 1925-10-16 -> 2024-09-21)\n"
     ]
    }
   ],
   "source": [
    "import json\n",
    "\n",
    "with open('data/tickers.json', 'w+') as f:\n",
    "    json.dump(tickers, f)\n",
    "\n",
    "for isin, ticker in tickers.items():\n",
    "    df = yf.Ticker(ticker).history(period='max')\n",
    "    df.to_csv(f'data/{isin}-{ticker}.csv')"
   ]
  }
 ],
 "metadata": {
  "kernelspec": {
   "display_name": "Python 3 (ipykernel)",
   "language": "python",
   "name": "python3"
  },
  "language_info": {
   "codemirror_mode": {
    "name": "ipython",
    "version": 3
   },
   "file_extension": ".py",
   "mimetype": "text/x-python",
   "name": "python",
   "nbconvert_exporter": "python",
   "pygments_lexer": "ipython3",
   "version": "3.10.1"
  }
 },
 "nbformat": 4,
 "nbformat_minor": 5
}
